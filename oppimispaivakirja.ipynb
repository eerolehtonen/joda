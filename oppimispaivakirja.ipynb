{
 "cells": [
  {
   "cell_type": "markdown",
   "metadata": {},
   "source": [
    "Oppimispäiväkirja Tijo.222 <br>\n",
    "Eero Lehtonen <br>\n",
    "Opnro: H292135 <br>\n",
    "<h1>Mitä on datatiede? </h1> <br>\n",
    "\n",
    "Kurssin keskeiset oppimistavoitteet:\n",
    "- Opi käyttämään keskeisimpiä työkaluja\n",
    "- Ymmärrys datatieteen periaatteista\n",
    "\n",
    "Keskeiset oppimistavoitteet tälle viikolle:\n",
    "- Saa ohjelmistot toimivaan\n",
    "- Saa kurssin käytännöt haltuun\n",
    "- Kirjoita ensimmäiset koodit\n",
    "\n",
    "Katsoin luennon tallenteena. Aineistona toimii Jupyter-notebook ensimmäiseltä luennolta.\n",
    "\n",
    "Kurssimateriaalein mukaan datatiede rakentuu neljästä kokonaisuudesta. Nämä kokonaisuudet ovat liiketoimitaosaaminen, ohjelmointi- ja tietokantaosaaminen, tilastollinen analyysi sekä datalähtöinen viestintä ja visualisointi. Näitä osa-alueita voi painottaa eri roolien mukaan, joita kurssimateriaalien mukaan organisaatiossa datatieteilijöille on monia. Monitieteisyys liittyy kuitenkin kaikiin datatieteilijöiden rooleihin.\n",
    "print(\"Monitieteisyys, jiihaa!!!\")\n",
    "Datatieteen pohjana toimii luonnolisesti data. Dataa on olemassa valtavasti, ja se lisääntyy jatkuvasti. Valvata määrä johtaa kysymykseen siitä, onko kaikki tämä data hyödyllistä. Datatieteilijän osaamiseen liittyy oleennaisesti relevantin datan tunnistaminen kulloisenkin tietotarpeen mukaan.\n",
    "\n",
    "Kurssimateriaaleissa esiteltiin useita prosessimalleja, joilla kuvataan datatieteen tekoa. Näitä malleja voidaan hyödyntää hyvän datatieteilijän edellytysten tunnustamiseen. CRISP-DM -malli esittelee datatiedeprosessia. Tästä mallista löytyy kaikki neljä osa-aluetta, jotka toimivat datatieteen pohjana. Kuitenkin kurssimateriaaleissa nostetaan esiin kysymys siitä, onko yksittäisen henkilön edes järkevää osata kaikkia osia prosessista. Mielestäni kuitenkin jonkinlainen osaaminen kaikista vaiheista on tärkeää, sillä sillä voi ohjata omia valintojaan niin, että muiden työ on helpompaa, jolloin luoto datatieteen tuote on mahdollisimman käyttökelpoinen.\n",
    "\n",
    "Datan määrän lisäksi datatieteen kehitykselle tärkeää on laskentatehon kasvu. Kasvanutta datamäärää täytyy luonnollisesti pystyä käsittelemään, jolloin kasvanut laskentateho tuo lisää mahdollisuuksia. Kasvanut laskentateho on tehnyt yksittäisestä tietokoneesta riittävän välineen datatieteen tekoon. Tämä on kasvattanut myös työvälineiden määrää. Tilastolaskentajärjestelmistä, kuten R, on siirrytty erilaisiin Python-pohjaisiin ympäristöihin. Keskeisitä työvälineitä on esimerkiksi Pandas ja Scikit-learn.\n",
    "\n",
    "Seuraava koodi perustuu Visual Studion tutoriaaliin (https://code.visualstudio.com/docs/datascience/data-science-tutorial). Data saatavilla osoitteessa https://www.openml.org/d/40945.\n"
   ]
  },
  {
   "cell_type": "code",
   "execution_count": 1,
   "metadata": {},
   "outputs": [],
   "source": [
    "import pandas as pd\n",
    "import numpy as np\n",
    "data =pd.read_csv('data.csv')\n",
    "#Datassa oli tyhjiä arvoja, merkitty merkillä '?'. Korvataan ne tyhjiksi.\n",
    "data.replace('?', np.nan, inplace= True)\n",
    "data = data.astype({\"age\": np.float64, \"fare\": np.float64})"
   ]
  },
  {
   "cell_type": "markdown",
   "metadata": {},
   "source": [
    "Viisi oivallusta:\n",
    "- Datatiede on monitieteistä\n",
    "- Pehmeät taidotkin ovat tärkeitä\n",
    "- Työkirja on näppärä vehje datatieteeseen\n",
    "- Tässä kurssissa riittää hommaa\n",
    "- Python on kivaa pitkästä aikaa"
   ]
  }
 ],
 "metadata": {
  "interpreter": {
   "hash": "7ed5aea3a6fc4215817a0181a88f12e5794dd3356e51543492661d708836335b"
  },
  "kernelspec": {
   "display_name": "Python 3.9.10 64-bit (windows store)",
   "language": "python",
   "name": "python3"
  },
  "language_info": {
   "codemirror_mode": {
    "name": "ipython",
    "version": 3
   },
   "file_extension": ".py",
   "mimetype": "text/x-python",
   "name": "python",
   "nbconvert_exporter": "python",
   "pygments_lexer": "ipython3",
   "version": "3.9.11"
  },
  "orig_nbformat": 4
 },
 "nbformat": 4,
 "nbformat_minor": 2
}
