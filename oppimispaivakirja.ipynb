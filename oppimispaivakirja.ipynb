{
 "cells": [
  {
   "cell_type": "markdown",
   "metadata": {},
   "source": [
    "Oppimispäiväkirja Tijo.222\n",
    "Eero Lehtonen\n",
    "Opnro: H292135"
   ]
  },
  {
   "cell_type": "code",
   "execution_count": 1,
   "metadata": {},
   "outputs": [
    {
     "name": "stdout",
     "output_type": "stream",
     "text": [
      "Oppimispäiväkirja\n"
     ]
    }
   ],
   "source": [
    "print(\"Oppimispäiväkirja\")"
   ]
  }
 ],
 "metadata": {
  "interpreter": {
   "hash": "7ed5aea3a6fc4215817a0181a88f12e5794dd3356e51543492661d708836335b"
  },
  "kernelspec": {
   "display_name": "Python 3.9.10 64-bit (windows store)",
   "language": "python",
   "name": "python3"
  },
  "language_info": {
   "codemirror_mode": {
    "name": "ipython",
    "version": 3
   },
   "file_extension": ".py",
   "mimetype": "text/x-python",
   "name": "python",
   "nbconvert_exporter": "python",
   "pygments_lexer": "ipython3",
   "version": "3.9.11"
  },
  "orig_nbformat": 4
 },
 "nbformat": 4,
 "nbformat_minor": 2
}
